{
 "cells": [
  {
   "cell_type": "code",
   "execution_count": 31,
   "id": "80488e6a-a5eb-472f-b40f-a45e9d457025",
   "metadata": {},
   "outputs": [
    {
     "name": "stdin",
     "output_type": "stream",
     "text": [
      "your percentage 90\n"
     ]
    },
    {
     "name": "stdout",
     "output_type": "stream",
     "text": [
      "Grade 'B'\n"
     ]
    }
   ],
   "source": [
    "#1).\n",
    "\n",
    "p = int(input(\"your percentage\"))\n",
    "if p >= 0 and  p <=100 :\n",
    "    if p > 90:\n",
    "        print(\"Grade 'A'\" )\n",
    "    elif p <= 90 and p > 80 :\n",
    "        print(\"Grade 'B'\")\n",
    "    elif p <=80 and p>=60:\n",
    "        print(\"Grade 'C'\")\n",
    "    else:\n",
    "        print(\"Grade 'D'\")\n",
    "else:\n",
    "    print(\"please enter a valid percentage\")\n",
    "    \n",
    "\n",
    "    \n"
   ]
  },
  {
   "cell_type": "code",
   "execution_count": 32,
   "id": "6479f46c-a79c-41f1-a7b3-4f142f9dc94d",
   "metadata": {},
   "outputs": [
    {
     "name": "stdin",
     "output_type": "stream",
     "text": [
      "cost price of your bike 4512\n"
     ]
    },
    {
     "name": "stdout",
     "output_type": "stream",
     "text": [
      "Tax = 5%\n"
     ]
    }
   ],
   "source": [
    "#2).\n",
    "\n",
    "C_Price = int(input(\"cost price of your bike\"))\n",
    "if C_Price >=0:\n",
    "    if C_Price > 100000:\n",
    "        print(\"Tax = 15%\" )\n",
    "    elif C_Price <= 100000 and C_Price > 50000 :\n",
    "        print(\"Tax = 10%\")\n",
    "    else:\n",
    "        print(\"Tax = 5%\")\n",
    "else:\n",
    "    print(\"cost price of a bike cann't be negative\")"
   ]
  },
  {
   "cell_type": "code",
   "execution_count": 33,
   "id": "17926125-e04d-4ec8-ae0b-71febb0d98e1",
   "metadata": {},
   "outputs": [
    {
     "name": "stdin",
     "output_type": "stream",
     "text": [
      "Select City: Delhi, Agra or Jaipur Jaipur\n"
     ]
    },
    {
     "name": "stdout",
     "output_type": "stream",
     "text": [
      "Monument of Jaipur : Jal Mahal\n"
     ]
    }
   ],
   "source": [
    "#3).\n",
    "\n",
    "City = input(\"Select City: Delhi, Agra or Jaipur\")\n",
    "c = City\n",
    "if c == \"Delhi\":\n",
    "    print(\"Monument of Delhi : Red Fort\")\n",
    "elif c == \"Agra\":\n",
    "    print(\"Monument of Agra : Taj Mahal\")\n",
    "elif c == \"Jaipur\":\n",
    "    print(\"Monument of Jaipur : Jal Mahal\")\n",
    "else:\n",
    "    print(\"plese enter valid city name\")"
   ]
  },
  {
   "cell_type": "code",
   "execution_count": 34,
   "id": "a701eec4-43ad-4e8b-9b06-647991b10e1a",
   "metadata": {},
   "outputs": [
    {
     "name": "stdin",
     "output_type": "stream",
     "text": [
      "Enter the number for which you want to check 50\n"
     ]
    },
    {
     "name": "stdout",
     "output_type": "stream",
     "text": [
      "2\n"
     ]
    }
   ],
   "source": [
    "#4).\n",
    "\n",
    "n = int(input(\"Enter the number for which you want to check\"))\n",
    "p = 0\n",
    "while True:\n",
    "    if n > 10 :\n",
    "        n = n/3 \n",
    "        p = p+1\n",
    "    else:\n",
    "        print(p)\n",
    "        break"
   ]
  },
  {
   "cell_type": "code",
   "execution_count": 35,
   "id": "9f7e240f-c559-4f34-a53c-355c64d4ac2c",
   "metadata": {},
   "outputs": [
    {
     "name": "stdin",
     "output_type": "stream",
     "text": [
      "Enter the number of element you are looking for 5\n"
     ]
    },
    {
     "name": "stdout",
     "output_type": "stream",
     "text": [
      "0\n",
      "1\n",
      "1\n",
      "2\n",
      "3\n"
     ]
    }
   ],
   "source": [
    "#5).\n",
    "\n",
    "'''while loop is best used when you don't know the number of iterations ahead of time. The contents of the loop are executed as long as the expression evaluates to true.'''\n",
    "#example finonacci series\n",
    "number = int(input(\"Enter the number of element you are looking for\"))\n",
    "counter = 1\n",
    "a , b = 0 , 1\n",
    "while counter <=number:\n",
    "    print(a)\n",
    "    c = a + b \n",
    "    a = b\n",
    "    b = c\n",
    "    counter = counter +1"
   ]
  },
  {
   "cell_type": "code",
   "execution_count": 37,
   "id": "70b0baf3-4132-430c-ba49-7a43079aa525",
   "metadata": {},
   "outputs": [
    {
     "name": "stdout",
     "output_type": "stream",
     "text": [
      "0 1 2 3 \n",
      "0 2 4 6 \n",
      "0 3 6 9 \n",
      "0 4 8 12 \n"
     ]
    }
   ],
   "source": [
    "#6).\n",
    "\n",
    "#pattern first\n",
    "\n",
    "i = 1\n",
    "while i <= 4 :\n",
    "    j = 0\n",
    "    while  j <= 3 :\n",
    "        print(i*j, end=\" \")\n",
    "        j += 1\n",
    "    print()\n",
    "    i += 1"
   ]
  },
  {
   "cell_type": "code",
   "execution_count": 38,
   "id": "b11623e4-1347-4829-8ebc-9a9f1c2e48cf",
   "metadata": {},
   "outputs": [
    {
     "name": "stdout",
     "output_type": "stream",
     "text": [
      "1 1 1 1 \n",
      "1 2 4 8 \n",
      "1 3 9 27 \n",
      "1 4 16 64 \n"
     ]
    }
   ],
   "source": [
    "#pattern second\n",
    "\n",
    "i = 1\n",
    "while i <= 4 :\n",
    "    j = 0\n",
    "    while  j <= 3 :\n",
    "        print(i**j, end=\" \")\n",
    "        j += 1\n",
    "    print()\n",
    "    i += 1"
   ]
  },
  {
   "cell_type": "code",
   "execution_count": null,
   "id": "fa610ef1-0912-4e75-9f16-d24003d92180",
   "metadata": {},
   "outputs": [
    {
     "name": "stdout",
     "output_type": "stream",
     "text": [
      "** ** ** ** \n",
      "** ** ** ** \n",
      "** ** ** ** \n",
      "** ** ** ** \n",
      "\n",
      "** ** ** ** \n",
      "** ** ** ** \n",
      "** ** ** ** \n",
      "** ** ** ** \n",
      "\n",
      "** ** ** ** \n",
      "** ** ** ** \n",
      "** ** ** ** \n",
      "** ** ** ** \n",
      "\n",
      "** ** ** ** \n",
      "** ** ** ** \n",
      "** ** ** ** \n",
      "** ** ** ** \n",
      "\n"
     ]
    }
   ],
   "source": [
    "#pattern \n",
    "\n",
    "i = 1\n",
    "while i <= 4 :\n",
    "    j = 0\n",
    "    while  j <= 3 :\n",
    "        k = 0\n",
    "        while k < 4:\n",
    "            print('**', end=\" \")\n",
    "            k +=1\n",
    "        print()\n",
    "        j += 1\n",
    "    print()\n",
    "    i += 1"
   ]
  },
  {
   "cell_type": "code",
   "execution_count": null,
   "id": "19338aa5-3ac4-480c-b5fd-20c78e280080",
   "metadata": {},
   "outputs": [
    {
     "name": "stdout",
     "output_type": "stream",
     "text": [
      "10\n",
      "9\n",
      "8\n",
      "7\n",
      "6\n",
      "5\n",
      "4\n",
      "3\n",
      "2\n",
      "1\n"
     ]
    }
   ],
   "source": [
    "num = 10\n",
    "while num >= 1:\n",
    "    print(num)\n",
    "    num = num - 1\n",
    "    "
   ]
  },
  {
   "cell_type": "code",
   "execution_count": null,
   "id": "58246c66-e82f-48e9-a4b4-37981c634470",
   "metadata": {},
   "outputs": [],
   "source": []
  }
 ],
 "metadata": {
  "kernelspec": {
   "display_name": "Python 3 (ipykernel)",
   "language": "python",
   "name": "python3"
  },
  "language_info": {
   "codemirror_mode": {
    "name": "ipython",
    "version": 3
   },
   "file_extension": ".py",
   "mimetype": "text/x-python",
   "name": "python",
   "nbconvert_exporter": "python",
   "pygments_lexer": "ipython3",
   "version": "3.10.6"
  }
 },
 "nbformat": 4,
 "nbformat_minor": 5
}
